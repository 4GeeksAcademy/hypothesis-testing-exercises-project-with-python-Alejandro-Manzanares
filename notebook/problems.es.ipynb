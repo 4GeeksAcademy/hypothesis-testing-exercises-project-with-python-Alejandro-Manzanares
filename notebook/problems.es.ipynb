{
 "cells": [
  {
   "cell_type": "markdown",
   "id": "d9d036c6",
   "metadata": {},
   "source": [
    "# Problemas de prueba de hipótesis"
   ]
  },
  {
   "cell_type": "markdown",
   "id": "d157c4db",
   "metadata": {},
   "source": [
    "## Ejercicio 1\n",
    "\n",
    "Usted es un nutricionista que investiga dos tipos diferentes de dietas para ver si existe una diferencia significativa en la pérdida de peso después de un mes. Eliges dos grupos aleatorios de personas; un grupo sigue la primera dieta y el otro sigue la segunda. Al final del mes, se registra la pérdida de peso (en kg) de cada persona:\n",
    "\n",
    "| Diet 1 | Diet 2 |\n",
    "|:-------|:-------|\n",
    "| 2.0 | 3.0 |\n",
    "| 2.5 | 3.2 |\n",
    "| 3.0 | 3.1 |\n",
    "| 2.8 | 2.9 |\n",
    "| 2.3 | 2.8 |\n",
    "| 2.7 | 3.0 |\n",
    "| 2.5 | 3.2 |\n",
    "\n",
    "Con estos datos se busca responder a la siguiente pregunta: ¿Existe una diferencia significativa en la pérdida de peso promedio entre las personas que siguieron la primera dieta y las que siguieron la segunda dieta?\n",
    "\n",
    "Para sacar conclusiones, siga los siguientes puntos:\n",
    "\n",
    "-Enunciar la hipótesis: hipótesis nula y alternativa.\n",
    "-Realizar la prueba para comprobar la hipótesis. Puede utilizar la prueba t de Student.\n",
    "-Analizar las conclusiones."
   ]
  },
  {
   "cell_type": "code",
   "execution_count": 20,
   "id": "8e0f3cf0",
   "metadata": {},
   "outputs": [
    {
     "name": "stdout",
     "output_type": "stream",
     "text": [
      "Estadística \n",
      "t: -3.54,\n",
      "P-valor: 0.0041\n",
      "Recahazamos la hipótesis nula\n"
     ]
    }
   ],
   "source": [
    "# TODO\n",
    "import numpy as np\n",
    "import scipy.stats as stats\n",
    "\n",
    "#Datos de ambas dietas\n",
    "diet_1 = np.array([2,2.5,3,2.8,2.3,2.7,2.5])\n",
    "diet_2 = np.array([3,3.2,3.1,2.9,2.8,3,3.2])\n",
    "\n",
    "#Prueba t de Student\n",
    "t_stat, p_value = stats.ttest_ind(diet_1, diet_2)\n",
    "print(f\"Estadística \\nt: {t_stat:.2f},\\nP-valor: {p_value:.4f}\")\n",
    "\n",
    "#Interpretación\n",
    "alpha = 0.05\n",
    "if p_value < alpha:\n",
    "    print(\"Recahazamos la hipótesis nula\")\n",
    "else:\n",
    "    print(\"No podemos rechazar la hipótesis nula\")\n",
    "\n"
   ]
  },
  {
   "cell_type": "markdown",
   "id": "f432e18e",
   "metadata": {},
   "source": [
    "## ANOVA\n",
    "\n",
    "**ANOVA** (*Analysis of Variance - Análisis de variación*) Es una técnica estadística utilizada para comparar las medidas de dos o más grupos. La idea detrás de ANOVA es descomponer la variabilidad total de los datos en dos componentes: variabilidad entre grupos y variabilidad dentro de los grupos:\n",
    "\n",
    "- **Variabilidad entre grupos**: Esta variabilidad se refiere a las diferencias entre las medias del grupo. Si esta variabilidad es considerablemente mayor que la variabilidad dentro del grupo, podría ser una indicación de que al menos una de las medias del grupo es diferente.\n",
    "- **Variabilidad dentro del grupo**: Esta variabilidad se refiere a la dispersión de los datos dentro de cada grupo. Si todos los grupos tienen una variabilidad similar, entonces cualquier diferencia notable en las medias de los grupos podría considerarse significativa.\n",
    "\n",
    "Las hipótesis en ANOVA suelen incluir:\n",
    "\n",
    "- **Hipótesis nula** ($H₀$): Las medias de todos los grupos son iguales.\n",
    "- **Hipótesis alternativa** ($H₁$): Al menos una de las medias del grupo es diferente.\n",
    "\n",
    "Si el resultado de la prueba ANOVA es significativo (por ejemplo, un valor p inferior a un umbral como 0,05), esto sugiere que al menos la media de un grupo es diferente."
   ]
  },
  {
   "cell_type": "markdown",
   "id": "fc5f3721",
   "metadata": {},
   "source": [
    "## Ejercicio 2\n",
    "\n",
    "Un agricultor decide probar tres tipos diferentes de fertilizantes para determinar si alguno es superior en términos de producción de maíz. El agricultor planta maíz en 15 parcelas idénticas y utiliza los tres fertilizantes (5 parcelas para cada tipo). Al final de la temporada mide el rendimiento de maíz (en kg) de cada parcela, con el siguiente resultado:\n",
    "\n",
    "| Fertilizante 1 | Fertilizante 2 | Fertilizante 3 |\n",
    "|:-------------|:-------------|:-------------|\n",
    "| 20 | 22 | 24 |\n",
    "| 21 | 21 | 23 |\n",
    "| 20 | 23 | 22 |\n",
    "| 19 | 22 | 23 |\n",
    "| 20 | 21 | 24 |\n",
    "\n",
    "Con estos datos busca responder la siguiente pregunta: ¿Existe una diferencia significativa en el rendimiento promedio del maíz entre los tres tipos de fertilizantes?\n",
    "\n",
    "Para ayudarte, sigue los siguientes puntos:\n",
    "\n",
    "-Enunciar la hipótesis: hipótesis nula y alternativa.\n",
    "-Realizar la prueba ANOVA.\n",
    "-Analizar las conclusiones.\n",
    "-Si un fertilizante es mejor que otro, ¿cómo podemos saberlo?"
   ]
  },
  {
   "cell_type": "code",
   "execution_count": 23,
   "id": "eecad0ca",
   "metadata": {},
   "outputs": [
    {
     "name": "stdout",
     "output_type": "stream",
     "text": [
      "Estadístico F: 20.32\n",
      "Valor p: 0.00\n"
     ]
    }
   ],
   "source": [
    "# TODO\n",
    "import numpy as np\n",
    "import scipy.stats as f_oneway\n",
    "\n",
    "fert_1 = np.array([20, 21, 20, 19,20])\n",
    "fert_2 = np.array([22, 21, 23, 22, 21])\n",
    "fert_3 = np.array([24, 23, 22, 23, 24])\n",
    "f_statistic, p_value = stats.f_oneway(fert_1, fert_2, fert_3)\n",
    "\n",
    "print(f'Estadístico F: {f_statistic:.2f}') \n",
    "print(f'Valor p: {p_value:.2f}')"
   ]
  },
  {
   "cell_type": "code",
   "execution_count": 14,
   "id": "41a53494",
   "metadata": {},
   "outputs": [
    {
     "ename": "SyntaxError",
     "evalue": "invalid syntax (1332259520.py, line 2)",
     "output_type": "error",
     "traceback": [
      "\u001b[0;36m  Cell \u001b[0;32mIn[14], line 2\u001b[0;36m\u001b[0m\n\u001b[0;31m    El valor obtenido de F indica que existe una variabildiad entre los grupos de fertilizantes es 20.32 veces\u001b[0m\n\u001b[0m       ^\u001b[0m\n\u001b[0;31mSyntaxError\u001b[0m\u001b[0;31m:\u001b[0m invalid syntax\n"
     ]
    }
   ],
   "source": [
    "## Conclusiones\n",
    "El valor obtenido de F indica que existe una variabildiad entre los grupos de fertilizantes es 20.32 veces\n",
    "mayor que dentro de los grupos de fertilizantes, lo que sugiere una diferencia dentro de los grupos de \n",
    "fertilizantes.\n",
    "\n",
    "Como el valor p es menor que el nivel de significancia comunmente utilizado, por lo que se descarta la \n",
    "hipótesis nula.\n",
    "\n",
    "En resumen, esto sugiere que el tipo de fertilziante influye en el cultivo del maiz.\n",
    "\n",
    "\n"
   ]
  },
  {
   "cell_type": "code",
   "execution_count": 25,
   "id": "22d6b6f0",
   "metadata": {},
   "outputs": [
    {
     "name": "stdout",
     "output_type": "stream",
     "text": [
      "Z-score value: 5.12\n",
      "P-value: 0.00\n",
      "Rechazamos H0: La media de la satisfacción del cliente es mayor que 4.\n"
     ]
    }
   ],
   "source": [
    "'''Ejercicio inventado Hypothesis testing\n",
    "Supongamos que eres el dueño de un restaurante y crees que la media de la puntuación de satisfacción \n",
    "del cliente es mayor que 4 en una escala de 1 a 5. \n",
    "Tienes una muestra de 30 puntuaciones de satisfacción de clientes:'''\n",
    "\n",
    "import numpy as np\n",
    "import scipy.stats as stats\n",
    "\n",
    "# Datos de la muestra \n",
    "satisfaccion = [4.1, 4.3, 4.8, 3.9, 4.2, 4.5, 4.0, 4.7, 4.1, 3.8, 4.6, 4.9, 3.7, 4.4, 4.2, 4.3, 3.9, \n",
    "                4.5, 4.0, 4.1, 4.8, 4.3, 4.6, 4.0, 4.2, 4.7, 4.1, 4.5, 4.3, 4.2]\n",
    "\n",
    "# Hipótesis: \n",
    "# H0: μ ≤ 4 (la media de la satisfacción del cliente es 4 o menor) \n",
    "# H1: μ > 4 (la media de la satisfacción del cliente es mayor que 4)\n",
    "\n",
    "#Prueba del test\n",
    "media_muestral = np.mean(satisfaccion)\n",
    "desviacion_estandar = np.std(satisfaccion)\n",
    "n = len(satisfaccion)\n",
    "\n",
    "#nivel de significancia\n",
    "alpha = 0.05\n",
    "\n",
    "#calculo \n",
    "t_stat, p_value = stats.ttest_1samp(satisfaccion, 4, alternative='greater')\n",
    "\n",
    "print(f\"Z-score value: {z_score:.2f}\")\n",
    "print(f\"P-value: {p_value:.2f}\")\n",
    "\n",
    "#Decisión\n",
    "if p_value < alpha: \n",
    "    print(\"Rechazamos H0: La media de la satisfacción del cliente es mayor que 4.\") \n",
    "else: \n",
    "    print(\"No podemos rechazar H0: No hay suficiente evidencia para decir que la media de la satisfacción del cliente es mayor que 4.\")\n"
   ]
  },
  {
   "cell_type": "code",
   "execution_count": 34,
   "id": "0037fca3",
   "metadata": {},
   "outputs": [
    {
     "name": "stdout",
     "output_type": "stream",
     "text": [
      "Estadística \n",
      "t: -35.23,\n",
      "P-valor: 0.0000\n",
      "Rechazamos H₀: La vida media de los frigoríficos es diferente de 15 años.\n"
     ]
    }
   ],
   "source": [
    "\n",
    "'''ejercicio inventado Hyphotesis testing\n",
    "Una empresa de electrodomésticos afirma que la vida media de sus frigoríficos es de 15 años. \n",
    "Un investigador sospecha que la media es diferente y recoge una muestra de 25 frigoríficos con \n",
    "una media de 14.5 años y una desviación estándar de 1.5 años.'''\n",
    "\n",
    "\n",
    "import numpy as np\n",
    "import scipy.stats as stats\n",
    "\n",
    "#Datos de la muestra\n",
    "n = 25\n",
    "media_muestral = 14.5\n",
    "desviacion_estandar = 1.5\n",
    "\n",
    "data = np.random.normal(media_muestral,desviacion_estandar,n)\n",
    "\n",
    "#nivel de significancia\n",
    "alpha = 0.05\n",
    "\n",
    "# Realizar el t-test de una muestra \n",
    "t_stat, p_value = stats.ttest_1samp(data, n)\n",
    "print(f\"Estadística \\nt: {t_stat:.2f},\\nP-valor: {p_value:.4f}\")\n",
    "\n",
    "#Interpretación\n",
    "alpha = 0.05\n",
    "\n",
    "# Decisión \n",
    "if p_value < alpha: \n",
    "    print(\"Rechazamos H₀: La vida media de los frigoríficos es diferente de 15 años.\") \n",
    "else: \n",
    "    print(\"No podemos rechazar H₀: No hay suficiente evidencia para decir que la vida media de los frigoríficos es diferente de 15 años.\")\n"
   ]
  },
  {
   "cell_type": "code",
   "execution_count": 38,
   "id": "e3da4fa0",
   "metadata": {},
   "outputs": [
    {
     "name": "stdout",
     "output_type": "stream",
     "text": [
      "Estadística \n",
      "t: 1.21,\n",
      "P-valor: 0.2415\n",
      "No podemos rechazar H₀: No hay suficiente evidencia para decir que hay una diferencia significativa en los puntajes medios entre clases en línea y presenciales.\n"
     ]
    }
   ],
   "source": [
    "'''ejercicio inventado\n",
    "Prueba t de Student (t-test)\n",
    "Un investigador quiere comparar el rendimiento académico de estudiantes que tomaron \n",
    "clases en línea versus aquellos que tomaron clases presenciales. Recoge los puntajes \n",
    "de 10 estudiantes para cada método de enseñanza.'''\n",
    "\n",
    "import numpy as np\n",
    "import scipy.stats as stats\n",
    "\n",
    "#Datos\n",
    "Clases_linea = np.array([85, 87, 78, 90, 83, 85, 80, 88, 86, 84])\n",
    "Clases_presenciales = np.array([82, 80, 79, 84, 86, 83, 81, 87, 85, 82])\n",
    "\n",
    "#Prueba t de Student\n",
    "t_stat, p_value = stats.ttest_ind(Clases_linea, Clases_presenciales)\n",
    "print(f\"Estadística \\nt: {t_stat:.2f},\\nP-valor: {p_value:.4f}\")\n",
    "\n",
    "#Interpretación\n",
    "alpha = 0.05\n",
    "\n",
    "# Decisión \n",
    "if p_value < alpha: \n",
    "    print(\"Rechazamos H₀: Hay una diferencia significativa en los puntajes medios entre clases en línea y presenciales.\") \n",
    "else: \n",
    "    print(\"No podemos rechazar H₀: No hay suficiente evidencia para decir que hay una diferencia significativa en los puntajes medios entre clases en línea y presenciales.\")\n"
   ]
  },
  {
   "cell_type": "code",
   "execution_count": 44,
   "id": "bc17a63c",
   "metadata": {},
   "outputs": [
    {
     "name": "stdout",
     "output_type": "stream",
     "text": [
      "Estadístico chi-cuadrado: 0.1953\n",
      "p-valor: 0.6585\n",
      "Grados de libertad: 1\n",
      "Frecuencias esperadas:\n",
      "[[48. 72.]\n",
      " [32. 48.]]\n",
      "No podemos rechazar H₀: No hay suficiente evidencia para decir que hay una asociación significativa entre el consumo de frutas y la ocurrencia de enfermedades del corazón.\n"
     ]
    }
   ],
   "source": [
    "'''ejercicio inventado\n",
    "Prueba chi-cuadrado (chi-square test)\n",
    "Un investigador quiere saber si hay una relación entre el consumo de frutas (bajo/alto) \n",
    "y la ocurrencia de enfermedades del corazón (sí/no) en una muestra de 200 personas.'''\n",
    "\n",
    "#Datos\n",
    "Bajo_consumo_frutas_y_enfermedades_corazon = 50 #personas\n",
    "Bajo_consumo_frutas_y_sin_enfermedades_corazon = 70 #personas\n",
    "Alto_consumo_frutas_y_enfermedades_corazon = 30 #personas\n",
    "Alto_consumo_frutas_y_sin_enfermedades_corazon = 50 #personas\n",
    "\n",
    "observed = np.array([[Bajo_consumo_frutas_y_enfermedades_corazon,\n",
    "                    Bajo_consumo_frutas_y_sin_enfermedades_corazon],\n",
    "                    [Alto_consumo_frutas_y_enfermedades_corazon,\n",
    "                    Alto_consumo_frutas_y_sin_enfermedades_corazon]])\n",
    "\n",
    "# Realizar la prueba de chi-cuadrado \n",
    "chi2, p, dof, expected = stats.chi2_contingency(observed) \n",
    "# Resultados \n",
    "print(f\"Estadístico chi-cuadrado: {chi2:.4f}\") \n",
    "print(f\"p-valor: {p:.4f}\") \n",
    "print(f\"Grados de libertad: {dof}\") \n",
    "print(\"Frecuencias esperadas:\") \n",
    "print(expected)\n",
    "\n",
    "# Nivel de significancia \n",
    "alpha = 0.05 \n",
    "# Decisión \n",
    "if p < alpha: \n",
    "    print(\"Rechazamos H₀: Hay una asociación significativa entre el consumo de frutas y la ocurrencia de enfermedades del corazón.\") \n",
    "else: \n",
    "    print(\"No podemos rechazar H₀: No hay suficiente evidencia para decir que hay una asociación significativa entre el consumo de frutas y la ocurrencia de enfermedades del corazón.\")\n"
   ]
  },
  {
   "cell_type": "code",
   "execution_count": 16,
   "id": "4ea6c409",
   "metadata": {},
   "outputs": [
    {
     "name": "stdout",
     "output_type": "stream",
     "text": [
      "'Coeficiente de Correlación de Pearson:',0.98\n",
      "Correlación fuerte positiva.\n"
     ]
    }
   ],
   "source": [
    "''' ejercicio inventado\n",
    "Prueba de Correlación\n",
    "Un economista quiere saber si hay una relación entre el número de horas trabajadas por \n",
    "semana y el salario semanal en una muestra de 15 trabajadores.'''\n",
    "\n",
    "import numpy as np\n",
    "from scipy.stats import pearsonr\n",
    "\n",
    "#Datos\n",
    "Horas_trabajadas_semana = [40, 42, 36, 38, 45, 40, 39, 44, 41, 37, 38, 43, 41, 42, 40]\n",
    "Salario_semanal_euros = [500, 520, 480, 490, 550, 510, 500, 540, 520, 490, 495, 530, 515, 525, 505]\n",
    "\n",
    "#calculo del coeficiente de correlacion de pearson\n",
    "pearson_corr, _ = pearsonr(Horas_trabajadas_semana, Salario_semanal_euros)\n",
    "print(f\"'Coeficiente de Correlación de Pearson:',{pearson_corr:.2f}\")\n",
    "\n",
    "# Interpretación del coeficiente de correlación \n",
    "if pearson_corr == 1: \n",
    "    print(\"Correlación perfecta positiva.\") \n",
    "elif 0.7 <= pearson_corr < 1: \n",
    "    print(\"Correlación fuerte positiva.\") \n",
    "elif 0.4 <= pearson_corr < 0.7: \n",
    "    print(\"Correlación moderada positiva.\") \n",
    "elif 0.1 <= pearson_corr < 0.4: \n",
    "    print(\"Correlación débil positiva.\") \n",
    "elif -0.1 < pearson_corr < 0.1: \n",
    "    print(\"Sin correlación.\") \n",
    "elif -0.4 <= pearson_corr <= -0.1: \n",
    "    print(\"Correlación débil negativa.\") \n",
    "elif -0.7 <= pearson_corr < -0.4:\n",
    "    print(\"Correlación moderada negativa.\") \n",
    "elif -1 < pearson_corr < -0.7: \n",
    "    print(\"Correlación fuerte negativa.\") \n",
    "elif pearson_corr == -1: \n",
    "    print(\"Correlación perfecta negativa.\")\n"
   ]
  },
  {
   "cell_type": "code",
   "execution_count": 25,
   "id": "a07d0b6b",
   "metadata": {},
   "outputs": [
    {
     "name": "stdout",
     "output_type": "stream",
     "text": [
      "Estadístico F: 10.16\n",
      "Valor p: 0.00\n",
      "Rechazamos la hipótesis nula: Hay una diferencia significativa entre al menos dos de los tratamientos.\n"
     ]
    }
   ],
   "source": [
    "'''ejercicio inventado\n",
    "ANOVA (Análisis de Varianza)\n",
    "Un investigador quiere comparar la efectividad de tres tratamientos para el dolor de cabeza. \n",
    "Recluta a 15 pacientes y les asigna aleatoriamente uno de los tres tratamientos (5 pacientes \n",
    "por tratamiento). Mide el nivel de dolor (en una escala de 1 a 10) antes y después del tratamiento \n",
    "y calcula la diferencia en el nivel de dolor.'''\n",
    "\n",
    "import numpy as np\n",
    "from scipy.stats import f_oneway\n",
    "\n",
    "#Datos\n",
    "Tratamiento_1 = [3, 4, 2, 5, 4]\n",
    "Tratamiento_2 = [5, 5, 4, 6, 5]\n",
    "Tratamiento_3 = [6, 7, 5, 6, 7]\n",
    "\n",
    "f_statistic, p_value = f_oneway(Tratamiento_1, Tratamiento_2, Tratamiento_3)\n",
    "\n",
    "print(f'Estadístico F: {f_statistic:.2f}') \n",
    "print(f'Valor p: {p_value:.2f}')\n",
    "\n",
    "# Definir el nivel de significancia \n",
    "alpha = 0.05 \n",
    "# Comparar el valor p con alpha \n",
    "if p_value < alpha: \n",
    "    print(\"Rechazamos la hipótesis nula: Hay una diferencia significativa entre al menos dos de los tratamientos.\") \n",
    "else: \n",
    "    print(\"No rechazamos la hipótesis nula: No hay una diferencia significativa entre los tratamientos.\")\n",
    "\n"
   ]
  },
  {
   "cell_type": "code",
   "execution_count": null,
   "id": "02f27ac2",
   "metadata": {},
   "outputs": [],
   "source": []
  }
 ],
 "metadata": {
  "kernelspec": {
   "display_name": "Python 3",
   "language": "python",
   "name": "python3"
  },
  "language_info": {
   "codemirror_mode": {
    "name": "ipython",
    "version": 3
   },
   "file_extension": ".py",
   "mimetype": "text/x-python",
   "name": "python",
   "nbconvert_exporter": "python",
   "pygments_lexer": "ipython3",
   "version": "3.11.4"
  }
 },
 "nbformat": 4,
 "nbformat_minor": 5
}
